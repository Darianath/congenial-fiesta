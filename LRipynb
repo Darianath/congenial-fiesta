{
  "nbformat": 4,
  "nbformat_minor": 0,
  "metadata": {
    "colab": {
      "provenance": [],
      "authorship_tag": "ABX9TyMKpdByhjB+lvyF8XcFnkjo",
      "include_colab_link": true
    },
    "kernelspec": {
      "name": "python3",
      "display_name": "Python 3"
    },
    "language_info": {
      "name": "python"
    }
  },
  "cells": [
    {
      "cell_type": "markdown",
      "metadata": {
        "id": "view-in-github",
        "colab_type": "text"
      },
      "source": [
        "<a href=\"https://colab.research.google.com/github/Darianath/congenial-fiesta/blob/main/LRipynb\" target=\"_parent\"><img src=\"https://colab.research.google.com/assets/colab-badge.svg\" alt=\"Open In Colab\"/></a>"
      ]
    },
    {
      "cell_type": "markdown",
      "source": [
        "# Назарова Дар`я\n",
        "Лабораторна робота №1\n",
        "\n",
        "Варіант 18\n",
        "\n",
        "ФІТ 2-8\n"
      ],
      "metadata": {
        "id": "gwTB8KtRCft2"
      }
    },
    {
      "cell_type": "code",
      "execution_count": 14,
      "metadata": {
        "colab": {
          "base_uri": "https://localhost:8080/"
        },
        "id": "wviXfmOACW4X",
        "outputId": "3dc1d2a6-eb00-4845-c919-36d31d86db01"
      },
      "outputs": [
        {
          "output_type": "stream",
          "name": "stdout",
          "text": [
            "Друга рівність точніше з відносною похибкою: 8e-05\n"
          ]
        }
      ],
      "source": [
        "import numpy as np\n",
        "\n",
        "def f(x, y):\n",
        "\n",
        " return np.abs(x - y) / np.abs(x)\n",
        "\n",
        "def main():\n",
        "\n",
        " x1 = np.sqrt(3)\n",
        " x2 = 13/7\n",
        " x1_1 = 1.73\n",
        " x2_2 = 1.857\n",
        " rel_error_x1 = f(x1, x1_1)\n",
        " rel_error_x2 = f(x2, x2_2)\n",
        "\n",
        " if rel_error_x1 <  rel_error_x2:\n",
        "  print(\"Перша рівність точніше з відносною похибкою:\", round(rel_error_x1, 5))\n",
        "\n",
        " elif rel_error_x2 < rel_error_x1:\n",
        "   print(\"Друга рівність точніше з відносною похибкою:\", round(rel_error_x2, 5))\n",
        " else:\n",
        "  print(\"Обидві рівності мають однакову точність з відносною похибкою:\", round(rel_error_x2, 5))\n",
        "if __name__ == \"__main__\":\n",
        " main()\n"
      ]
    }
  ]
}